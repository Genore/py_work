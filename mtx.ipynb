{
  "nbformat": 4,
  "nbformat_minor": 0,
  "metadata": {
    "colab": {
      "name": "mtx.ipynb",
      "provenance": [],
      "collapsed_sections": [],
      "authorship_tag": "ABX9TyPCuE/GKBd+aUDixd+wmI3a",
      "include_colab_link": true
    },
    "kernelspec": {
      "name": "python3",
      "display_name": "Python 3"
    }
  },
  "cells": [
    {
      "cell_type": "markdown",
      "metadata": {
        "id": "view-in-github",
        "colab_type": "text"
      },
      "source": [
        "<a href=\"https://colab.research.google.com/github/Genore/py_work/blob/master/mtx.ipynb\" target=\"_parent\"><img src=\"https://colab.research.google.com/assets/colab-badge.svg\" alt=\"Open In Colab\"/></a>"
      ]
    },
    {
      "cell_type": "markdown",
      "metadata": {
        "id": "8h5VLl7dWVgi",
        "colab_type": "text"
      },
      "source": [
        "### Вариант 4"
      ]
    },
    {
      "cell_type": "markdown",
      "metadata": {
        "id": "3cNovxSXWaJH",
        "colab_type": "text"
      },
      "source": [
        "#### Задание 316(а)"
      ]
    },
    {
      "cell_type": "code",
      "metadata": {
        "id": "Of4v3K38WJnm",
        "colab_type": "code",
        "outputId": "a82406a1-3941-44e8-970c-73e9463817cf",
        "colab": {
          "base_uri": "https://localhost:8080/",
          "height": 34
        }
      },
      "source": [
        "import os\n",
        "string = \" Парсер, или синтаксическиД анализатор, — часть программы, преобразующей входные данные (как правило, текст) в структурированный формат.\"\n",
        "string = string.replace(\",\", \"\").replace(\".\", \"\").replace(\"?\", \"\").replace(\"!\", \"\")\n",
        "words = string.split()\n",
        "word = \" \"\n",
        "for char in words:\n",
        "  if char.endswith('д') == True or char.endswith('Д') == True:\n",
        "    word = char\n",
        "if word == \" \":\n",
        "  print (\"Слова, оканчивающегося на 'д' в тексте нет\")\n",
        "else: print (word)\n"
      ],
      "execution_count": 0,
      "outputs": [
        {
          "output_type": "stream",
          "text": [
            "синтаксическиД\n"
          ],
          "name": "stdout"
        }
      ]
    },
    {
      "cell_type": "markdown",
      "metadata": {
        "id": "qbRcUoesgxmr",
        "colab_type": "text"
      },
      "source": [
        "#### Задание 370(а)"
      ]
    },
    {
      "cell_type": "code",
      "metadata": {
        "id": "b19XUcdDgxO5",
        "colab_type": "code",
        "outputId": "69dd1797-260a-4bed-855c-d823e408babd",
        "colab": {
          "base_uri": "https://localhost:8080/",
          "height": 34
        }
      },
      "source": [
        "n = 3    \n",
        "matrix = [[0] * n for i in range(n)]\n",
        "for i in range(1,n):\n",
        "  for j in range(0,n):\n",
        "    matrix[i][j] = 1 / (i+j)\n",
        "print (matrix)"
      ],
      "execution_count": 0,
      "outputs": [
        {
          "output_type": "stream",
          "text": [
            "[[0, 0, 0], [1.0, 0.5, 0.3333333333333333], [0.5, 0.3333333333333333, 0.25]]\n"
          ],
          "name": "stdout"
        }
      ]
    },
    {
      "cell_type": "markdown",
      "metadata": {
        "id": "XTI6lNoRrw9k",
        "colab_type": "text"
      },
      "source": [
        "#### Задание 1014"
      ]
    },
    {
      "cell_type": "code",
      "metadata": {
        "id": "6o4FfKpJrzhG",
        "colab_type": "code",
        "outputId": "4cdbc120-956c-4026-e5e7-d8f110947604",
        "colab": {
          "base_uri": "https://localhost:8080/",
          "height": 34
        }
      },
      "source": [
        "import random\n",
        "n = 5\n",
        "rowSum = (n*((n**2)+1))/2\n",
        "matrix=[[random.randrange(25) for i in range(n)] for j in range(n)]\n",
        "first = sum(matrix[0])\n",
        "\n",
        "def sqMat(n,matrix,first):\n",
        "  for k in range(0, n):\n",
        "      if sum(matrix[k]) != first:\n",
        "        return False\n",
        "  for k in range(0, n):\n",
        "     if sum([row[k] for row in matrix]) != first:\n",
        "        return False\n",
        "\n",
        "m = sqMat(n,matrix,first)\n",
        "if m == True:\n",
        "  print (\"TRUE\")\n",
        "else: print(\"FALSE\")\n"
      ],
      "execution_count": 0,
      "outputs": [
        {
          "output_type": "stream",
          "text": [
            "FALSE\n"
          ],
          "name": "stdout"
        }
      ]
    },
    {
      "cell_type": "markdown",
      "metadata": {
        "id": "GX7K2WtV5K1Y",
        "colab_type": "text"
      },
      "source": [
        "#### Задание 437"
      ]
    },
    {
      "cell_type": "code",
      "metadata": {
        "id": "7TDLn9bu5Y_s",
        "colab_type": "code",
        "outputId": "6183fee9-1784-4e00-853c-eaf32a0e5f2e",
        "colab": {
          "base_uri": "https://localhost:8080/",
          "height": 34
        }
      },
      "source": [
        "# f0 + f1x^1 + f2x^2 + f3x^3 ...  = f0 + x(f1 + x(f2 + x(f3 + x(f4 + x(... (f9 + f10*x)))))) = 0\n",
        "# f0 = (f0*x + f1)\n",
        "import random\n",
        "#arr = [random.randrange(100) for i in range(10)]\n",
        "print (f)"
      ],
      "execution_count": 0,
      "outputs": [
        {
          "output_type": "stream",
          "text": [
            "[1, 2, 3, 4, 5, 6, 7, 8, 9, 10]\n"
          ],
          "name": "stdout"
        }
      ]
    },
    {
      "cell_type": "markdown",
      "metadata": {
        "id": "xRYr4wZk5boE",
        "colab_type": "text"
      },
      "source": [
        "#### Задание 136(г)"
      ]
    },
    {
      "cell_type": "code",
      "metadata": {
        "id": "4ymQ42c_5gVH",
        "colab_type": "code",
        "outputId": "27931c60-83a1-492e-c099-5774755089e2",
        "colab": {
          "base_uri": "https://localhost:8080/",
          "height": 34
        }
      },
      "source": [
        "import math\n",
        "n = 1\n",
        "arr = list(range(-5,n-1))\n",
        "f = 1\n",
        "for i in arr:\n",
        "  f *= abs(i)\n",
        "print(f)"
      ],
      "execution_count": 0,
      "outputs": [
        {
          "output_type": "stream",
          "text": [
            "120\n"
          ],
          "name": "stdout"
        }
      ]
    },
    {
      "cell_type": "markdown",
      "metadata": {
        "id": "ussf-zly8h6g",
        "colab_type": "text"
      },
      "source": [
        "#### Задание 832"
      ]
    },
    {
      "cell_type": "code",
      "metadata": {
        "id": "vo-A1LSZ8kV8",
        "colab_type": "code",
        "outputId": "e8cd1c83-4637-4618-b2b9-76455269d9c1",
        "colab": {
          "base_uri": "https://localhost:8080/",
          "height": 221
        }
      },
      "source": [
        "import calendar\n",
        "year = 2020\n",
        "n = 12\n",
        "for i in range(1, n + 1 ):\n",
        "  c = calendar.monthcalendar(year, i)\n",
        "  for j in c:\n",
        "    for y in j:\n",
        "      if y != 0:\n",
        "        tr = calendar.weekday(year, i, y)\n",
        "        if (tr == calendar.THURSDAY):\n",
        "          day = y\n",
        "  print(day)"
      ],
      "execution_count": 0,
      "outputs": [
        {
          "output_type": "stream",
          "text": [
            "30\n",
            "27\n",
            "26\n",
            "30\n",
            "28\n",
            "25\n",
            "30\n",
            "27\n",
            "24\n",
            "29\n",
            "26\n",
            "31\n"
          ],
          "name": "stdout"
        }
      ]
    }
  ]
}