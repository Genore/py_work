{
  "nbformat": 4,
  "nbformat_minor": 0,
  "metadata": {
    "colab": {
      "name": "ans.ipynb",
      "provenance": [],
      "collapsed_sections": [],
      "authorship_tag": "ABX9TyOXaIpjkVryHaMfoRSePhT/",
      "include_colab_link": true
    },
    "kernelspec": {
      "name": "python3",
      "display_name": "Python 3"
    }
  },
  "cells": [
    {
      "cell_type": "markdown",
      "metadata": {
        "id": "view-in-github",
        "colab_type": "text"
      },
      "source": [
        "<a href=\"https://colab.research.google.com/github/Genore/py_work/blob/master/ans.ipynb\" target=\"_parent\"><img src=\"https://colab.research.google.com/assets/colab-badge.svg\" alt=\"Open In Colab\"/></a>"
      ]
    },
    {
      "cell_type": "markdown",
      "metadata": {
        "id": "8IooAGSnrkvh",
        "colab_type": "text"
      },
      "source": [
        "**Вариант 4**\n",
        "\n",
        "#### Задание 5.\n"
      ]
    },
    {
      "cell_type": "code",
      "metadata": {
        "id": "K5CqRg47m6_s",
        "colab_type": "code",
        "outputId": "9910b2b2-40e8-44cc-a2d2-3a4170e0a22b",
        "colab": {
          "base_uri": "https://localhost:8080/",
          "height": 51
        }
      },
      "source": [
        "import math\n",
        "a = 10\n",
        "b = 20\n",
        "print (\"Среднее арифметическое = \", (a + b) / 2)\n",
        "print (\"Среднее геометрическое = \", math.sqrt(math.fabs(a*b)))"
      ],
      "execution_count": 0,
      "outputs": [
        {
          "output_type": "stream",
          "text": [
            "Среднее арифметическое =  15.0\n",
            "Среднее геометрическое =  14.142135623730951\n"
          ],
          "name": "stdout"
        }
      ]
    },
    {
      "cell_type": "markdown",
      "metadata": {
        "id": "8VinOgEVr6at",
        "colab_type": "text"
      },
      "source": [
        "#### Задание 57 (а)\n"
      ]
    },
    {
      "cell_type": "code",
      "metadata": {
        "id": "3Gxin0apnUyJ",
        "colab_type": "code",
        "outputId": "b30e0038-8542-442a-bd84-bfdd979fe1a8",
        "colab": {
          "base_uri": "https://localhost:8080/",
          "height": 34
        }
      },
      "source": [
        "x = -2\n",
        "if x < 2 and x >= -2:\n",
        " y = x**2\n",
        " print (\"f(x) = \", y)\n",
        "else:\n",
        " y = 4\n",
        " print (\"f(x) = \", y)"
      ],
      "execution_count": 0,
      "outputs": [
        {
          "output_type": "stream",
          "text": [
            "f(x) =  4\n"
          ],
          "name": "stdout"
        }
      ]
    },
    {
      "cell_type": "markdown",
      "metadata": {
        "id": "zraNpGenuhAb",
        "colab_type": "text"
      },
      "source": [
        "#### Задание 57(б)"
      ]
    },
    {
      "cell_type": "code",
      "metadata": {
        "id": "la7m7CYQultE",
        "colab_type": "code",
        "outputId": "5dcc3191-1933-4310-daed-3984e3204c5f",
        "colab": {
          "base_uri": "https://localhost:8080/",
          "height": 34
        }
      },
      "source": [
        "x = 2\n",
        "if x <= 2:\n",
        "  y = x**2 + 4*x + 5\n",
        "  print (\"f(x) = \", y)\n",
        "else:\n",
        "  y = 1 / (x**2 + 4*x + 5)\n",
        "  print (\"f(x) = \", y)\n"
      ],
      "execution_count": 0,
      "outputs": [
        {
          "output_type": "stream",
          "text": [
            "f(x) =  17\n"
          ],
          "name": "stdout"
        }
      ]
    },
    {
      "cell_type": "markdown",
      "metadata": {
        "id": "vrOjvYmCvnwH",
        "colab_type": "text"
      },
      "source": [
        "#### Задание 64"
      ]
    },
    {
      "cell_type": "code",
      "metadata": {
        "id": "AIQppYh2vr8I",
        "colab_type": "code",
        "outputId": "28b2a502-b641-448a-d557-2e5c5d8a4fcd",
        "colab": {
          "base_uri": "https://localhost:8080/",
          "height": 34
        }
      },
      "source": [
        "\n",
        "n = 299\n",
        "if n > 99:\n",
        "  print (\"Сотен в числе =\", n // 100)\n",
        "else: \n",
        "  print (\"Сотен в числе нет)\")"
      ],
      "execution_count": 0,
      "outputs": [
        {
          "output_type": "stream",
          "text": [
            "Сотен в числе = 2\n"
          ],
          "name": "stdout"
        }
      ]
    },
    {
      "cell_type": "markdown",
      "metadata": {
        "id": "bd38IbJwwdGS",
        "colab_type": "text"
      },
      "source": [
        "#### Задание 77 (в)"
      ]
    },
    {
      "cell_type": "code",
      "metadata": {
        "id": "7_3mij7QxDiv",
        "colab_type": "code",
        "outputId": "dbcbbd35-b14b-4dc4-9428-577d721cd515",
        "colab": {
          "base_uri": "https://localhost:8080/",
          "height": 34
        }
      },
      "source": [
        "n = 2\n",
        "f = 1\n",
        "for i in range(1, n+1):\n",
        "  f *= (1 + (1/i**2))\n",
        "print (\"Функция равна - \", f)"
      ],
      "execution_count": 0,
      "outputs": [
        {
          "output_type": "stream",
          "text": [
            "Функция равна -  2.5\n"
          ],
          "name": "stdout"
        }
      ]
    },
    {
      "cell_type": "markdown",
      "metadata": {
        "id": "nJOXgWG2PRuC",
        "colab_type": "text"
      },
      "source": [
        "#### Задание 178(е)"
      ]
    },
    {
      "cell_type": "code",
      "metadata": {
        "id": "JUVPl5gxPwJd",
        "colab_type": "code",
        "outputId": "090cf04e-f70b-493b-ef99-9c9c824dbc38",
        "colab": {
          "base_uri": "https://localhost:8080/",
          "height": 34
        }
      },
      "source": [
        "numbers = [1,2,3,4,5]\n",
        "k = 0\n",
        "for i in range ( 1, len(numbers)+1):\n",
        "  if numbers.index(i) % 2 == 0:\n",
        "    if i % 2 != 0:\n",
        "     k += 1\n",
        "print (\"Количество чисел, имеющих четные порядковые номера и являющиеся нечетными - \",k)\n"
      ],
      "execution_count": 0,
      "outputs": [
        {
          "output_type": "stream",
          "text": [
            "Количество чисел, имеющих четные порядковые номера и являющиеся нечетными -  3\n"
          ],
          "name": "stdout"
        }
      ]
    },
    {
      "cell_type": "markdown",
      "metadata": {
        "id": "IdVE_uT4aLPq",
        "colab_type": "text"
      },
      "source": [
        "#### Задание 139(г)"
      ]
    },
    {
      "cell_type": "code",
      "metadata": {
        "id": "RbzIVktjaQR-",
        "colab_type": "code",
        "outputId": "3f3615c1-edbc-47d0-af3c-e5577175b576",
        "colab": {
          "base_uri": "https://localhost:8080/",
          "height": 34
        }
      },
      "source": [
        "lt = list()\n",
        "n = 5\n",
        "b = 0\n",
        "for i in range (1, n + 1):\n",
        "  b = 2**(i+1)\n",
        "  lt.append(b)\n",
        "print(\"Полученная последовательность чисел -\", lt)"
      ],
      "execution_count": 0,
      "outputs": [
        {
          "output_type": "stream",
          "text": [
            "Полученная последовательность чисел - [4, 8, 16, 32, 64]\n"
          ],
          "name": "stdout"
        }
      ]
    },
    {
      "cell_type": "markdown",
      "metadata": {
        "id": "tFm8pNrUbkrq",
        "colab_type": "text"
      },
      "source": [
        "#### Задание 208(б)"
      ]
    },
    {
      "cell_type": "code",
      "metadata": {
        "id": "40dQDs_sdIed",
        "colab_type": "code",
        "outputId": "5561f8a3-8b81-4220-a872-6a0c840b9e5f",
        "colab": {
          "base_uri": "https://localhost:8080/",
          "height": 51
        }
      },
      "source": [
        "n = 14\n",
        "lt = list (range(1,n, n+1))\n",
        "odd = list()\n",
        "even = 0\n",
        "mx = 0\n",
        "for i in range (1, n + 2):\n",
        "  if i % 2 != 0:\n",
        "    odd.append(i)\n",
        "    mx = max(odd)\n",
        "  else:\n",
        "    even += 1\n",
        "print(\"Максимальное число из нечетных - \",mx)\n",
        "print(\"Количество четных чисел в последовательности\",even)\n"
      ],
      "execution_count": 0,
      "outputs": [
        {
          "output_type": "stream",
          "text": [
            "Максимальное число из нечетных -  15\n",
            "Количество четных чисел в последовательности 7\n"
          ],
          "name": "stdout"
        }
      ]
    },
    {
      "cell_type": "code",
      "metadata": {
        "id": "BeI0_0K4gb3a",
        "colab_type": "code",
        "colab": {}
      },
      "source": [
        ""
      ],
      "execution_count": 0,
      "outputs": []
    },
    {
      "cell_type": "markdown",
      "metadata": {
        "id": "kfMwqXPKg7XA",
        "colab_type": "text"
      },
      "source": [
        "#### Задание 257(г)"
      ]
    },
    {
      "cell_type": "code",
      "metadata": {
        "id": "KM4podLhg_po",
        "colab_type": "code",
        "outputId": "fbaf1aee-397a-4559-c953-ff0da3677e63",
        "colab": {
          "base_uri": "https://localhost:8080/",
          "height": 34
        }
      },
      "source": [
        "string = \"Он был упрям, но не строг\" \n",
        "for i in string:\n",
        "  if string.find('но') or string.find('он'):\n",
        "    print (\"В строке имеется пара соседствующих букв \\'он' или \\'но'\")\n",
        "    break\n"
      ],
      "execution_count": 0,
      "outputs": [
        {
          "output_type": "stream",
          "text": [
            "В строке имеется пара соседствующих букв 'он' или 'но'\n"
          ],
          "name": "stdout"
        }
      ]
    },
    {
      "cell_type": "markdown",
      "metadata": {
        "id": "QHoqkgokCE5W",
        "colab_type": "text"
      },
      "source": [
        "#### Задание 120\n",
        "\n"
      ]
    },
    {
      "cell_type": "code",
      "metadata": {
        "id": "9juGohxaR8eD",
        "colab_type": "code",
        "outputId": "ea9988f7-524b-41f5-9718-773b58f1bcb4",
        "colab": {
          "base_uri": "https://localhost:8080/",
          "height": 295
        }
      },
      "source": [
        "%matplotlib inline\n",
        "import matplotlib as mpl\n",
        "import matplotlib.pyplot as plt\n",
        "\n",
        "plt.plot((100, 150, 80,100),(100,100,170,100))\n",
        "\n",
        "plt.title('Треугольник')\n",
        "plt.xlabel('x')\n",
        "plt.ylabel('y')\n",
        "plt.show()"
      ],
      "execution_count": 0,
      "outputs": [
        {
          "output_type": "display_data",
          "data": {
            "image/png": "[encoded data removed]",
            "text/plain": [
              "<Figure size 432x288 with 1 Axes>"
            ]
          },
          "metadata": {
            "tags": []
          }
        }
      ]
    },
    {
      "cell_type": "code",
      "metadata": {
        "id": "sdqZdtL9A059",
        "colab_type": "code",
        "outputId": "953523b2-3caa-4da3-cf10-dcde8b7662f3",
        "colab": {
          "base_uri": "https://localhost:8080/",
          "height": 295
        }
      },
      "source": [
        "import matplotlib as mpl\n",
        "import matplotlib.pyplot as plt\n",
        "\n",
        "plt.plot((80, 170, 170, 80, 80),(80, 80, 150, 150,80))\n",
        "plt.title('Прямоугольник')\n",
        "plt.xlabel('x')\n",
        "plt.ylabel('y')\n",
        "plt.show()"
      ],
      "execution_count": 0,
      "outputs": [
        {
          "output_type": "display_data",
          "data": {
            "image/png": "[encoded data removed]",
            "text/plain": [
              "<Figure size 432x288 with 1 Axes>"
            ]
          },
          "metadata": {
            "tags": []
          }
        }
      ]
    },
    {
      "cell_type": "code",
      "metadata": {
        "id": "iWXh3tSeCmgY",
        "colab_type": "code",
        "outputId": "db311f58-e3d8-4f7f-a3d6-174608113cc5",
        "colab": {
          "base_uri": "https://localhost:8080/",
          "height": 295
        }
      },
      "source": [
        "import matplotlib as mpl\n",
        "import matplotlib.pyplot as plt\n",
        "\n",
        "plt.plot((100, 150, 170, 150, 100,100),(100, 100, 120, 140,140,100))\n",
        "plt.title('Пятиугольник')\n",
        "plt.xlabel('x')\n",
        "plt.ylabel('y')\n",
        "plt.show()"
      ],
      "execution_count": 0,
      "outputs": [
        {
          "output_type": "display_data",
          "data": {
            "image/png": "[encoded data removed]",
            "text/plain": [
              "<Figure size 432x288 with 1 Axes>"
            ]
          },
          "metadata": {
            "tags": []
          }
        }
      ]
    },
    {
      "cell_type": "code",
      "metadata": {
        "id": "UibmKTeMC9LV",
        "colab_type": "code",
        "outputId": "31e83c82-7968-49b5-f33f-0c063ba4c6c3",
        "colab": {
          "base_uri": "https://localhost:8080/",
          "height": 295
        }
      },
      "source": [
        "import matplotlib as mpl\n",
        "import matplotlib.pyplot as plt\n",
        "\n",
        "plt.plot((120, 140, 140, 120, 100,100,120),(100, 120, 140, 160,140,120,100))\n",
        "plt.title('Шестиугольник')\n",
        "plt.xlabel('x')\n",
        "plt.ylabel('y')\n",
        "plt.show()"
      ],
      "execution_count": 0,
      "outputs": [
        {
          "output_type": "display_data",
          "data": {
            "image/png": "[encoded data removed]",
            "text/plain": [
              "<Figure size 432x288 with 1 Axes>"
            ]
          },
          "metadata": {
            "tags": []
          }
        }
      ]
    },
    {
      "cell_type": "markdown",
      "metadata": {
        "id": "K68xAo5gL5cg",
        "colab_type": "text"
      },
      "source": [
        "#### Задание 124\n",
        "\n"
      ]
    },
    {
      "cell_type": "code",
      "metadata": {
        "id": "e1dYqgWlL8i5",
        "colab_type": "code",
        "outputId": "f1ed2d8a-91e1-41de-84de-17c68e547725",
        "colab": {
          "base_uri": "https://localhost:8080/",
          "height": 265
        }
      },
      "source": [
        "%matplotlib inline\n",
        "import matplotlib.pyplot as plt\n",
        "\n",
        "plt.bar([6], [1])\n",
        "plt.bar([7], [5])\n",
        "plt.bar([8], [15])\n",
        "plt.bar([9], [10])\n",
        "plt.bar([10], [2])\n",
        "plt.bar([11], [20])\n",
        "plt.bar([12], [4])\n",
        "plt.show()"
      ],
      "execution_count": 0,
      "outputs": [
        {
          "output_type": "display_data",
          "data": {
            "image/png": "[encoded data removed]",
            "text/plain": [
              "<Figure size 432x288 with 1 Axes>"
            ]
          },
          "metadata": {
            "tags": []
          }
        }
      ]
    },
    {
      "cell_type": "markdown",
      "metadata": {
        "id": "sNLqV6coNYGd",
        "colab_type": "text"
      },
      "source": [
        "#### Задание 135\n"
      ]
    },
    {
      "cell_type": "code",
      "metadata": {
        "id": "r78da7AUlyJz",
        "colab_type": "code",
        "outputId": "be8078c1-dcb3-4480-ffc1-3a2b5e47a29b",
        "colab": {
          "base_uri": "https://localhost:8080/",
          "height": 646
        }
      },
      "source": [
        "from datetime import datetime\n",
        "import time\n",
        "\n",
        "\n",
        "def digit0 ():\n",
        "  d = 1 #индексация начинается с 0 и если хотим работать с 1 то ставим отступ на -1.\n",
        "  arr = [\"\",\"\",\"\",\"\",\"\",\"\",\"\",\"\",\"\"]\n",
        "  arr[1-d] = \" ****** \"\n",
        "  arr[5-d] = \"        \"\n",
        "  arr[9-d] = \" ****** \"\n",
        "  for i in [2,3,4,6,7,8,]: arr[i-d] = \"*      *\"\n",
        "  return arr\n",
        "\n",
        "def space ():\n",
        "  d = 1 #индексация начинается с 0 и если хотим работать с 1 то ставим отступ на -1.\n",
        "  arr = [\"\",\"\",\"\",\"\",\"\",\"\",\"\",\"\",\"\"]\n",
        "  for i in range(0,9): arr[i] = \"         \"\n",
        "  return arr\n",
        "\n",
        "def digit1 ():\n",
        "  arr = space()\n",
        "  for i in range (0,9): \n",
        "    arr[i] = list(arr[i])#разбираем на кусочки\n",
        "    #рисуем))\n",
        "    arr[i][7] = \"*\" if i!=4 else \" \"\n",
        "    arr[i] = ''.join(arr[i])#собираем обратно\n",
        "  return arr\n",
        "\n",
        "def digit2 ():\n",
        "  d = 1 \n",
        "  arr = [\"\",\"\",\"\",\"\",\"\",\"\",\"\",\"\",\"\"]\n",
        "  arr[1-d] = \" ****** \"\n",
        "  arr[5-d] = \" ****** \"\n",
        "  arr[9-d] = \" ****** \"\n",
        "  for i in [2,3,4,]: arr[i-d] = \"       *\"\n",
        "  for i in [6,7,8,]: arr[i-d] = \"*       \"\n",
        "  return arr\n",
        "\n",
        "def digit3 ():\n",
        "  d = 1 \n",
        "  arr = [\"\",\"\",\"\",\"\",\"\",\"\",\"\",\"\",\"\"]\n",
        "  arr[1-d] = \" ****** \"\n",
        "  arr[5-d] = \" ****** \"\n",
        "  arr[9-d] = \" ****** \"\n",
        "  for i in [2,3,4,]: arr[i-d] = \"       *\"\n",
        "  for i in [6,7,8,]: arr[i-d] = \"       *\"\n",
        "  return arr\n",
        "\n",
        "def digit4 ():\n",
        "  d = 1 \n",
        "  arr = [\"\",\"\",\"\",\"\",\"\",\"\",\"\",\"\",\"\"]\n",
        "  arr[5-d] = \" ****** \"\n",
        "  for i in [1,2,3,4,6,7,8,9]: arr[i-d] = \"*       *\"\n",
        "  for i in [6,7,8,9]: arr[i-d] = \"        *\"\n",
        "  return arr\n",
        "\n",
        "def digit5 ():\n",
        "  d = 1 \n",
        "  arr = [\"\",\"\",\"\",\"\",\"\",\"\",\"\",\"\",\"\"]\n",
        "  arr[1-d] = \" ****** \"\n",
        "  arr[5-d] = \" ****** \"\n",
        "  arr[9-d] = \" ****** \"\n",
        "  for i in [2,3,4,]: arr[i-d] = \"*       \"\n",
        "  for i in [6,7,8,]: arr[i-d] = \"       *\"\n",
        "  return arr\n",
        "\n",
        "def digit6 ():\n",
        "  d = 1 \n",
        "  arr = [\"\",\"\",\"\",\"\",\"\",\"\",\"\",\"\",\"\"]\n",
        "  arr[1-d] = \" ****** \"\n",
        "  arr[5-d] = \" ****** \"\n",
        "  arr[9-d] = \" ****** \"\n",
        "  for i in [2,3,4,]: arr[i-d] = \"*       \"\n",
        "  for i in [6,7,8,]: arr[i-d] = \"*      *\"\n",
        "  return arr\n",
        "\n",
        "def digit7 ():\n",
        "  d = 1 \n",
        "  arr = [\"\",\"\",\"\",\"\",\"\",\"\",\"\",\"\",\"\"]\n",
        "  arr[1-d] = \" ****** \"\n",
        "  for i in [2,3,4,6,7,8,]: arr[i-d] = \"*      *\"\n",
        "  for i in [6,7,8,9]: arr[i-d] = \"       *\"\n",
        "  return arr\n",
        "\n",
        "def digit8 ():\n",
        "  d = 1 \n",
        "  arr = [\"\",\"\",\"\",\"\",\"\",\"\",\"\",\"\",\"\"]\n",
        "  arr[1-d] = \" ****** \"\n",
        "  arr[5-d] = \" ****** \"\n",
        "  arr[9-d] = \" ****** \"\n",
        "  for i in [2,3,4,6,7,8,]: arr[i-d] = \"*      *\"\n",
        "  return arr\n",
        "\n",
        "def digit9 ():\n",
        "  d = 1 \n",
        "  arr = [\"\",\"\",\"\",\"\",\"\",\"\",\"\",\"\",\"\"]\n",
        "  arr[1-d] = \" ****** \"\n",
        "  arr[5-d] = \" ****** \"\n",
        "  arr[9-d] = \" ****** \"\n",
        "  for i in [2,3,4,6,7,8,]: arr[i-d] = \"*      *\"\n",
        "  for i in [6,7,8,]: arr[i-d] = \"       *\"\n",
        "  return arr\n",
        "\n",
        "h = 0 \n",
        "m = 0\n",
        "\n",
        "def currTimeH ():\n",
        "  now = datetime.now()\n",
        "  h = now.hour + 3\n",
        "  return h\n",
        "\n",
        "def currTimeM ():\n",
        "  now = datetime.now()\n",
        "  m = now.minute\n",
        "  return m\n",
        "\n",
        "def clock(h, m):\n",
        "  h1 = h\n",
        "  m1 = m\n",
        "  if h1 > 10:\n",
        "    h2 = h1 // 10\n",
        "    h3 = h1 % 10\n",
        "  if m1 > 10:\n",
        "    m2 = m1 // 10\n",
        "    m3 = m1 % 10\n",
        "  lt = [h2,h3,m2,m3]\n",
        "  for i in lt:\n",
        "    if i == 0: \n",
        "      for i in range(len(digit01)): print(digit01[i])\n",
        "    elif i == 1:\n",
        "      for i in range(len(digit01)): print(one[i])\n",
        "    elif i == 2:\n",
        "      for i in range(len(digit01)): print(two[i])\n",
        "    elif i == 3:\n",
        "      for i in range(len(digit01)): print(three[i])\n",
        "    elif i == 4:\n",
        "      for i in range(len(digit01)): print(four[i])\n",
        "    elif i == 5:\n",
        "      for i in range(len(digit01)): print(five[i])\n",
        "    elif i == 6:\n",
        "      for i in range(len(digit01)): print(six[i])\n",
        "    elif i == 7:\n",
        "      for i in range(len(digit01)): print(seven[i])\n",
        "    elif i == 8:\n",
        "      for i in range(len(digit01)): print(eight[i])\n",
        "    elif i == 9:\n",
        "      for i in range(len(digit01)): print(nine[i])\n",
        "  return ''\n",
        "\n",
        "digit01 = digit0()\n",
        "space1 = space()\n",
        "one = digit1()\n",
        "two = digit2()\n",
        "three = digit3()\n",
        "four = digit4()\n",
        "five = digit5()\n",
        "six = digit6()\n",
        "seven = digit7()\n",
        "eight = digit8()\n",
        "nine = digit9()\n",
        "tm = currTimeH()\n",
        "tm1 = currTimeM()\n",
        "tm2 = clock(tm, tm1)\n",
        "print(tm2)\n",
        "#for i in range(len(digit01)): print(digit01[i] + space1[i] + nine[i])"
      ],
      "execution_count": 0,
      "outputs": [
        {
          "output_type": "stream",
          "text": [
            "       * \n",
            "       * \n",
            "       * \n",
            "       * \n",
            "         \n",
            "       * \n",
            "       * \n",
            "       * \n",
            "       * \n",
            " ****** \n",
            "       *\n",
            "       *\n",
            "       *\n",
            " ****** \n",
            "       *\n",
            "       *\n",
            "       *\n",
            " ****** \n",
            "*       *\n",
            "*       *\n",
            "*       *\n",
            "*       *\n",
            " ****** \n",
            "        *\n",
            "        *\n",
            "        *\n",
            "        *\n",
            " ****** \n",
            "*       \n",
            "*       \n",
            "*       \n",
            " ****** \n",
            "       *\n",
            "       *\n",
            "       *\n",
            " ****** \n",
            "\n"
          ],
          "name": "stdout"
        }
      ]
    },
    {
      "cell_type": "markdown",
      "metadata": {
        "id": "TP3UM2m7D0mF",
        "colab_type": "text"
      },
      "source": [
        "#### Задание 173"
      ]
    },
    {
      "cell_type": "code",
      "metadata": {
        "id": "JEQtn9nAD8PK",
        "colab_type": "code",
        "outputId": "f945a678-7354-4174-c62d-dab62e5b0e78",
        "colab": {
          "base_uri": "https://localhost:8080/",
          "height": 102
        }
      },
      "source": [
        "import matplotlib as mpl\n",
        "import matplotlib.pyplot as plt\n",
        "import random\n",
        "from math import ceil\n",
        "import numpy as np\n",
        "\n",
        "n = 5\n",
        "numbers = list()\n",
        "lines = list()\n",
        "a = 0\n",
        "for i in range(0,4*n):\n",
        "  i = random.randint(1,99)\n",
        "  numbers.append(i)\n",
        "  #if numbers.index(i) % 4 == 0:\n",
        "    #a = numbers.index(i)\n",
        "    #lines.append(a)\n",
        "    #print (lines) \n",
        "#for i in range(1,len(lines)+1):\n",
        "def parting(numbers, parts):\n",
        "    part_len = ceil(len(numbers)/parts)\n",
        "    return [numbers[part_len*k:part_len*(k+1)] for k in range(parts)]\n",
        "parts = n\n",
        "parting(numbers,parts) \n"
      ],
      "execution_count": 0,
      "outputs": [
        {
          "output_type": "execute_result",
          "data": {
            "text/plain": [
              "[[49, 8, 92, 49],\n",
              " [57, 28, 79, 16],\n",
              " [10, 61, 10, 16],\n",
              " [99, 41, 22, 68],\n",
              " [40, 96, 88, 38]]"
            ]
          },
          "metadata": {
            "tags": []
          },
          "execution_count": 14
        }
      ]
    }
  ]
}